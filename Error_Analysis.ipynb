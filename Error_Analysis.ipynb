{
  "nbformat": 4,
  "nbformat_minor": 0,
  "metadata": {
    "colab": {
      "name": " Error Analysis- AMULYA GUPTA",
      "provenance": [],
      "collapsed_sections": []
    },
    "kernelspec": {
      "name": "python3",
      "display_name": "Python 3"
    },
    "language_info": {
      "name": "python"
    },
    "accelerator": "GPU"
  },
  "cells": [
    {
      "cell_type": "markdown",
      "metadata": {
        "id": "bx8mmk6Ud-fI"
      },
      "source": [
        "# Installing relevant packages and libraries"
      ]
    },
    {
      "cell_type": "code",
      "metadata": {
        "id": "sMVs7_zIxNod"
      },
      "source": [
        "import numpy as np\n",
        "import cv2\n",
        "from matplotlib import pyplot as plt\n",
        "import os\n",
        "from natsort import natsorted"
      ],
      "execution_count": 21,
      "outputs": []
    },
    {
      "cell_type": "markdown",
      "metadata": {
        "id": "QpuS-BaieFkL"
      },
      "source": [
        "## Mounting Google Drive so that we can access the result data stored on it which was generated using [this notebook](https://colab.research.google.com/drive/1L41SueuDIZbZ17Fd1HpK1wu-z3077uky#scrollTo=Pwd3fBprvd-k)."
      ]
    },
    {
      "cell_type": "code",
      "metadata": {
        "colab": {
          "base_uri": "https://localhost:8080/"
        },
        "id": "06q2r-w3xVrq",
        "outputId": "bae14441-1e06-4b94-e317-79f0d8926302"
      },
      "source": [
        "from google.colab import drive\n",
        "drive.mount('/content/gdrive')"
      ],
      "execution_count": 22,
      "outputs": [
        {
          "output_type": "stream",
          "name": "stdout",
          "text": [
            "Drive already mounted at /content/gdrive; to attempt to forcibly remount, call drive.mount(\"/content/gdrive\", force_remount=True).\n"
          ]
        }
      ]
    },
    {
      "cell_type": "markdown",
      "metadata": {
        "id": "jmDtGtdj89w9"
      },
      "source": [
        "# Parsing Data"
      ]
    },
    {
      "cell_type": "markdown",
      "metadata": {
        "id": "9bURC01s9Kdm"
      },
      "source": [
        "## Storing the result data on a python variable and parsing it appropriately so that it is accessible for iteration and plotting the genuine and imposter curves."
      ]
    },
    {
      "cell_type": "code",
      "metadata": {
        "id": "QEiOxvuQ9JAf",
        "colab": {
          "base_uri": "https://localhost:8080/",
          "height": 87
        },
        "outputId": "d01297a3-a3d6-47f6-858d-eb8227af60b2"
      },
      "source": [
        "with open('gdrive/MyDrive/DeepLearningAssignment/Result_sift.txt', \"r\") as file:\n",
        "    data_sift = file.readlines()\n",
        "with open('gdrive/MyDrive/DeepLearningAssignment/Result_surf.txt', \"r\") as file:\n",
        "    data_surf = file.readlines()\n",
        "with open('gdrive/MyDrive/DeepLearningAssignment/Result_orb.txt', \"r\") as file:\n",
        "    data_orb = file.readlines()\n",
        "#with open('gdrive/MyDrive/DeepLearningAssignment/Result_arcface.txt', \"r\") as file:\n",
        " #   data_arcface = file.readlines()\n",
        "\n",
        "# Parsing SIFT result data\n",
        "for i in range(len(data_sift)):\n",
        "    data_sift[i] = data_sift[i].rstrip()\n",
        "    data_sift[i] = data_sift[i].split()\n",
        "    for j in range(len(data_sift[i])):\n",
        "        data_sift[i][j] = data_sift[i][j].split('_')\n",
        "i = 0\n",
        "\n",
        "while i < len(data_sift):\n",
        "  if data_sift[i][0] == data_sift[i][2] or data_sift[i][0] == data_sift[i][2]:\n",
        "    del data_sift[i]\n",
        "  else:\n",
        "    i += 1\n",
        "print(\"All to Well\")\n",
        "\n",
        "\n",
        "# Parsing ORB result data\n",
        "for i in range(len(data_orb)):\n",
        "    data_orb[i] = data_orb[i].rstrip()\n",
        "    data_orb[i] = data_orb[i].split()\n",
        "    for j in range(len(data_orb[i])):\n",
        "        data_orb[i][j] = data_orb[i][j].split('_')\n",
        "i = 0\n",
        "while i < len(data_orb):\n",
        "    if data_orb[i][0] == data_orb[i][2] and data_orb[i][0] == data_orb[i][2]:\n",
        "        del data_orb[i]\n",
        "    else:\n",
        "        i += 1\n",
        "print(\"All to Well\")\n",
        "\n",
        "# Parsing SURF result data\n",
        "for i in range(len(data_surf)):\n",
        "    data_surf[i] = data_surf[i].rstrip()\n",
        "    data_surf[i] = data_surf[i].split()\n",
        "    for j in range(len(data_surf[i])):\n",
        "        data_surf[i][j] = data_surf[i][j].split('_')\n",
        "i = 0\n",
        "while i < len(data_surf):\n",
        "    if data_surf[i][0] == data_surf[i][2] and data_surf[i][0] == data_surf[i][2]:\n",
        "        del data_surf[i]\n",
        "    else:\n",
        "        i += 1\n"
      ],
      "execution_count": 23,
      "outputs": [
        {
          "output_type": "execute_result",
          "data": {
            "text/plain": [
              "\"\\n# Parsing ArcFace result data\\nfor i in range(len(data_arcface)):\\n    data_arcface[i] = data_arcface[i].rstrip()\\n    data_arcface[i] = data_arcface[i].split()\\n    for j in range(len(data_arcface[i])):\\n        data_arcface[i][j] = data_arcface[i][j].split('_')\\ni = 0\\nwhile i < len(data_arcface):\\n    if data_arcface[i][0][2] == data_arcface[i][1][2] and data_arcface[i][0][0] == data_arcface[i][1][0]:\\n        del data_arcface[i]\\n    else:\\n        i += 1\\n        \""
            ],
            "application/vnd.google.colaboratory.intrinsic+json": {
              "type": "string"
            }
          },
          "metadata": {},
          "execution_count": 23
        }
      ]
    },
    {
      "cell_type": "markdown",
      "metadata": {
        "id": "M37RgXNMpKNh"
      },
      "source": [
        "## Storing genuine and imposter values in separate variables in order to plot respective histograms\n"
      ]
    },
    {
      "cell_type": "code",
      "metadata": {
        "id": "zBrfKsFIb3O_",
        "colab": {
          "base_uri": "https://localhost:8080/",
          "height": 122
        },
        "outputId": "b7e9a7b6-fd61-474c-91fc-356b4090af60"
      },
      "source": [
        "genuine_sift = list()\n",
        "imposter_sift = list()\n",
        "genuine_surf = list()\n",
        "imposter_surf = list()\n",
        "genuine_orb = list()\n",
        "imposter_orb = list()\n",
        "genuine_arcface = list()\n",
        "imposter_arcface = list()\n",
        "# Function to scale the score values\n",
        "def scale_down(score, minimum, maximum):\n",
        "    return (score - minimum) / (maximum- minimum)\n",
        "\n",
        "# SIFT\n",
        "score_sift = list()\n",
        "for i in range(len(data_sift)):\n",
        "    score_sift.append(float(data_sift[i][2][0]))\n",
        "minimum = min(score_sift)\n",
        "maximum = max(score_sift)\n",
        "\n",
        "for i in range(len(data_sift)):\n",
        "    id1 = data_sift[i][0][0]\n",
        "    id2 = data_sift[i][1][0]\n",
        "    res = scale_down(score_sift[i], minimum, maximum)\n",
        "    if id1 == id2:\n",
        "        genuine_sift.append(res)\n",
        "    else:\n",
        "        imposter_sift.append(res)\n",
        "\n",
        "# SURF\n",
        "score_surf = list()\n",
        "for i in range(len(data_surf)):\n",
        "    score_surf.append(float(data_surf[i][2][0]))\n",
        "minimum = min(score_surf)\n",
        "maximum = max(score_surf)\n",
        "for i in range(len(data_surf)):\n",
        "    id1 = data_surf[i][0][0]\n",
        "    id2 = data_surf[i][1][0]\n",
        "    res = scale_down(score_surf[i], minimum, maximum)\n",
        "    if id1 == id2:\n",
        "        genuine_surf.append(res)\n",
        "    else:\n",
        "        imposter_surf.append(res)\n",
        "\n",
        "# ORB\n",
        "score_orb = list()\n",
        "for i in range(len(data_orb)):\n",
        "    score_orb.append(float(data_orb[i][2][0]))\n",
        "minimum = min(score_orb)\n",
        "maximum = max(score_orb)\n",
        "for i in range(len(data_orb)):\n",
        "    id1 = data_orb[i][0][0]\n",
        "    id2 = data_orb[i][1][0]\n",
        "    res = scale_down(score_orb[i], minimum, maximum)\n",
        "    if id1 == id2:\n",
        "        genuine_orb.append(res)\n",
        "    else:\n",
        "        imposter_orb.append(res)\n"
      ],
      "execution_count": 24,
      "outputs": [
        {
          "output_type": "execute_result",
          "data": {
            "text/plain": [
              "'\\n# ArcFace\\n# As explained in the ArcFace file, before storing the scores for histogram plotting and ROC curves,\\n# we first will need to scale it down and then take its compliment.\\nscore_arcface = list()\\nfor i in range(len(data_arcface)):\\n    score_arcface.append(float(data_arcface[i][2][0]))\\nminimum = min(score_arcface)\\nmaximum = max(score_arcface)\\n\\n# Following function scales down the scores\\n\\nfor i in range(len(score_arcface)):\\n    score_arcface[i] = 1 - scale_down(score_arcface[i], minimum, maximum)\\n\\nfor i in range(len(data_arcface)):\\n    id1 = data_arcface[i][0][0]\\n    id2 = data_arcface[i][1][0]\\n    res = score_arcface[i]\\n    if id1 == id2:\\n        genuine_arcface.append(res)\\n    else:\\n        imposter_arcface.append(res)\\n        '"
            ],
            "application/vnd.google.colaboratory.intrinsic+json": {
              "type": "string"
            }
          },
          "metadata": {},
          "execution_count": 24
        }
      ]
    },
    {
      "cell_type": "markdown",
      "metadata": {
        "id": "eVpcjkNV6Gvl"
      },
      "source": [
        "# SIFT graphs and histograms"
      ]
    },
    {
      "cell_type": "markdown",
      "metadata": {
        "id": "ROx3ok-mpS9q"
      },
      "source": [
        "## Plotting genuine and imposter histograms together in single plot"
      ]
    },
    {
      "cell_type": "code",
      "metadata": {
        "id": "XN6XPWx7hLkl",
        "colab": {
          "base_uri": "https://localhost:8080/",
          "height": 265
        },
        "outputId": "4c3b07ae-dcf5-4aed-efb8-db8c6423aaf3"
      },
      "source": [
        "plt.hist(genuine_sift, weights=np.ones_like(genuine_sift) / len(genuine_sift), bins = 100, histtype='step', label = 'Genuine')\n",
        "plt.hist(imposter_sift, weights = np.ones_like(imposter_sift) / len(imposter_sift), bins = 100, histtype='step', label = 'Imposter')\n",
        "plt.legend()\n",
        "plt.show()"
      ],
      "execution_count": 25,
      "outputs": [
        {
          "output_type": "display_data",
          "data": {
            "text/plain": [
              "<Figure size 432x288 with 1 Axes>"
            ],
            "image/png": "[encoded data removed]"
          },
          "metadata": {
            "needs_background": "light"
          }
        }
      ]
    },
    {
      "cell_type": "markdown",
      "metadata": {
        "id": "mLUHw4c3pjSO"
      },
      "source": [
        "## Plotting genuine histogram separately"
      ]
    },
    {
      "cell_type": "code",
      "metadata": {
        "id": "ymusreONo5zv",
        "colab": {
          "base_uri": "https://localhost:8080/",
          "height": 265
        },
        "outputId": "b0122c20-8f75-4dab-d81a-5ac95a49ccdb"
      },
      "source": [
        "plt.hist(genuine_sift, weights=np.ones_like(genuine_sift) / len(genuine_sift), bins = 100, histtype='step', label = 'Genuine')\n",
        "plt.legend()\n",
        "plt.show()"
      ],
      "execution_count": 26,
      "outputs": [
        {
          "output_type": "display_data",
          "data": {
            "text/plain": [
              "<Figure size 432x288 with 1 Axes>"
            ],
            "image/png": "[encoded data removed]"
          },
          "metadata": {
            "needs_background": "light"
          }
        }
      ]
    },
    {
      "cell_type": "markdown",
      "metadata": {
        "id": "jItzoMRMprtY"
      },
      "source": [
        "## Plotting imposter histogram separately"
      ]
    },
    {
      "cell_type": "code",
      "metadata": {
        "id": "rrUKpxKdpfvT",
        "colab": {
          "base_uri": "https://localhost:8080/",
          "height": 265
        },
        "outputId": "3bf05434-30d9-4f7f-9b84-52923426399e"
      },
      "source": [
        "plt.hist(imposter_sift, weights = np.ones_like(imposter_sift) / len(imposter_sift), bins = 100, histtype='step', label = 'Imposter')\n",
        "plt.legend()\n",
        "plt.show()"
      ],
      "execution_count": 27,
      "outputs": [
        {
          "output_type": "display_data",
          "data": {
            "text/plain": [
              "<Figure size 432x288 with 1 Axes>"
            ],
            "image/png": "[encoded data removed]"
          },
          "metadata": {
            "needs_background": "light"
          }
        }
      ]
    },
    {
      "cell_type": "markdown",
      "metadata": {
        "id": "pmC7EhMF8Egf"
      },
      "source": [
        "## Plotting ROC curve"
      ]
    },
    {
      "cell_type": "code",
      "metadata": {
        "id": "_Ms97XV9pqia",
        "colab": {
          "base_uri": "https://localhost:8080/",
          "height": 331
        },
        "outputId": "01bdf16a-7d41-43b3-bdda-8e693ddfe63e"
      },
      "source": [
        "genuine_sift.sort()\n",
        "imposter_sift.sort()\n",
        "frr = list()\n",
        "far = list()\n",
        "minimum = float('inf')\n",
        "threshold = 0\n",
        "eer = 1\n",
        "step = 1e-4\n",
        "for th in np.arange(0, 1, step):\n",
        "    for y in range(len(genuine_sift)):\n",
        "        if genuine_sift[y] >= th:\n",
        "            break\n",
        "    for x in range(len(imposter_sift)):\n",
        "        if imposter_sift[x] >= th:\n",
        "            break\n",
        "    frr.append(len(genuine_sift[:y]) / len(genuine_sift))\n",
        "    far.append(len(imposter_sift[x:]) / len(imposter_sift))\n",
        "    if minimum > abs(far[-1] - frr[-1]):\n",
        "        threshold = th\n",
        "        minimum = abs(far[-1] - frr[-1])\n",
        "        eer = far[-1]\n",
        "\n",
        "plt.plot(far, frr)\n",
        "plt.xlabel(\"False Acceptance Rate (FAR)\")\n",
        "plt.ylabel(\"False Rejection Rate (FRR)\")\n",
        "plt.show()\n",
        "print('Threshold =', threshold)\n",
        "print('EER =', eer)\n",
        "print('far =', far[int(threshold / step)], 'frr =', frr[int(threshold / step)])"
      ],
      "execution_count": 28,
      "outputs": [
        {
          "output_type": "display_data",
          "data": {
            "text/plain": [
              "<Figure size 432x288 with 1 Axes>"
            ],
            "image/png": "[encoded data removed]"
          },
          "metadata": {
            "needs_background": "light"
          }
        },
        {
          "output_type": "stream",
          "name": "stdout",
          "text": [
            "Threshold = 0.8546\n",
            "EER = 0.00010101010101010101\n",
            "far = 0.00010101010101010101 frr = 0.0\n"
          ]
        }
      ]
    },
    {
      "cell_type": "markdown",
      "metadata": {
        "id": "P1Q-Vx5nPTxP"
      },
      "source": [
        "## Computing CRR\n",
        "For computing CRR we will be using the same threshold value that has been obtained from computing EER. This is because at that threshold value both FAR and FRR are equal which will minimize the total "
      ]
    },
    {
      "cell_type": "code",
      "metadata": {
        "id": "LHvCpYrNPS_z",
        "colab": {
          "base_uri": "https://localhost:8080/"
        },
        "outputId": "ca573110-6efd-4a83-e822-2e1b4537469e"
      },
      "source": [
        "genuine_sift.sort()\n",
        "for x in range(len(genuine_sift)):\n",
        "    if genuine_sift[x] >= threshold:\n",
        "        break\n",
        "for y in range(len(imposter_sift)):\n",
        "    if imposter_sift[y] >= threshold:\n",
        "        break\n",
        "crr = (len(genuine_sift[x:]) + len(imposter_sift[:y])) / (len(genuine_sift) + len(imposter_sift))\n",
        "print('CRR for SIFT recognition is:', crr)"
      ],
      "execution_count": 29,
      "outputs": [
        {
          "output_type": "stream",
          "name": "stdout",
          "text": [
            "CRR for SIFT recognition is: 0.9999\n"
          ]
        }
      ]
    },
    {
      "cell_type": "markdown",
      "metadata": {
        "id": "bq_SfL6A8fDV"
      },
      "source": [
        "# SURF data analysis"
      ]
    },
    {
      "cell_type": "markdown",
      "metadata": {
        "id": "2itjtEpyAQWy"
      },
      "source": [
        "## Plotting genuine and imposter histograms together in single plot"
      ]
    },
    {
      "cell_type": "code",
      "metadata": {
        "id": "-pNLJI1a8hqY",
        "colab": {
          "base_uri": "https://localhost:8080/",
          "height": 265
        },
        "outputId": "2dbfeb81-6b31-4efc-fb10-17ffffdaffd9"
      },
      "source": [
        "plt.hist(genuine_surf, weights=np.ones_like(genuine_surf) / len(genuine_surf), bins = 100, histtype='step', label = 'Genuine')\n",
        "plt.hist(imposter_surf, weights = np.ones_like(imposter_surf) / len(imposter_surf), bins = 100, histtype='step', label = 'Imposter')\n",
        "plt.legend()\n",
        "plt.show()"
      ],
      "execution_count": 30,
      "outputs": [
        {
          "output_type": "display_data",
          "data": {
            "text/plain": [
              "<Figure size 432x288 with 1 Axes>"
            ],
            "image/png": "[encoded data removed]"
          },
          "metadata": {
            "needs_background": "light"
          }
        }
      ]
    },
    {
      "cell_type": "markdown",
      "metadata": {
        "id": "yF19tXsTASr-"
      },
      "source": [
        "## Plotting genuine histogram separately"
      ]
    },
    {
      "cell_type": "code",
      "metadata": {
        "id": "eIfiUxl-KnKR",
        "colab": {
          "base_uri": "https://localhost:8080/",
          "height": 265
        },
        "outputId": "82b1ff6b-63f0-4576-f8ea-4f85de87c3ba"
      },
      "source": [
        "plt.hist(genuine_surf, weights=np.ones_like(genuine_surf) / len(genuine_surf), bins = 100, histtype='step', label = 'Genuine')\n",
        "plt.legend()\n",
        "plt.show()"
      ],
      "execution_count": 31,
      "outputs": [
        {
          "output_type": "display_data",
          "data": {
            "text/plain": [
              "<Figure size 432x288 with 1 Axes>"
            ],
            "image/png": "[encoded data removed]"
          },
          "metadata": {
            "needs_background": "light"
          }
        }
      ]
    },
    {
      "cell_type": "markdown",
      "metadata": {
        "id": "cZJQ5ea5KvFV"
      },
      "source": [
        "## Plotting imposter histogram separately"
      ]
    },
    {
      "cell_type": "code",
      "metadata": {
        "id": "MgVvGa0qKv0J",
        "colab": {
          "base_uri": "https://localhost:8080/",
          "height": 265
        },
        "outputId": "1773f46c-0f61-4dbe-a98c-417862ba68d0"
      },
      "source": [
        "plt.hist(imposter_surf, weights = np.ones_like(imposter_surf) / len(imposter_surf), bins = 100, histtype='step', label = 'Imposter')\n",
        "plt.legend()\n",
        "plt.show()"
      ],
      "execution_count": 32,
      "outputs": [
        {
          "output_type": "display_data",
          "data": {
            "text/plain": [
              "<Figure size 432x288 with 1 Axes>"
            ],
            "image/png": "[encoded data removed]"
          },
          "metadata": {
            "needs_background": "light"
          }
        }
      ]
    },
    {
      "cell_type": "markdown",
      "metadata": {
        "id": "iowgYTGMPD54"
      },
      "source": [
        "## Plotting ROC curve"
      ]
    },
    {
      "cell_type": "code",
      "metadata": {
        "id": "0gF6gMefPGcb",
        "colab": {
          "base_uri": "https://localhost:8080/",
          "height": 331
        },
        "outputId": "ebf2eaec-63ce-44fd-e807-cd13f15214f8"
      },
      "source": [
        "genuine_surf.sort()\n",
        "imposter_surf.sort()\n",
        "frr = list()\n",
        "far = list()\n",
        "minimum = float('inf')\n",
        "threshold = 0\n",
        "eer = 1\n",
        "step = 1e-4\n",
        "for th in np.arange(0, 1, step):\n",
        "    for y in range(len(genuine_surf)):\n",
        "        if genuine_surf[y] >= th:\n",
        "            break\n",
        "    for x in range(len(imposter_surf)):\n",
        "        if imposter_surf[x] >= th:\n",
        "            break\n",
        "    frr.append(len(genuine_surf[:y]) / len(genuine_surf))\n",
        "    far.append(len(imposter_surf[x:]) / len(imposter_surf))\n",
        "    if minimum > abs(far[-1] - frr[-1]):\n",
        "        threshold = th\n",
        "        minimum = abs(far[-1] - frr[-1])\n",
        "        eer = far[-1]\n",
        "\n",
        "plt.plot(far, frr)\n",
        "plt.xlabel(\"False Acceptance Rate (FAR)\")\n",
        "plt.ylabel(\"False Rejection Rate (FRR)\")\n",
        "plt.show()\n",
        "print('Threshold =', threshold)\n",
        "print('EER =', eer)\n",
        "print('far =', far[int(threshold / step)], 'frr =', frr[int(threshold / step)])"
      ],
      "execution_count": 33,
      "outputs": [
        {
          "output_type": "display_data",
          "data": {
            "text/plain": [
              "<Figure size 432x288 with 1 Axes>"
            ],
            "image/png": "[encoded data removed]"
          },
          "metadata": {
            "needs_background": "light"
          }
        },
        {
          "output_type": "stream",
          "name": "stdout",
          "text": [
            "Threshold = 0.8969\n",
            "EER = 0.00010101010101010101\n",
            "far = 0.00010101010101010101 frr = 0.0\n"
          ]
        }
      ]
    },
    {
      "cell_type": "markdown",
      "metadata": {
        "id": "VaampLkYrx43"
      },
      "source": [
        "## Computing CRR"
      ]
    },
    {
      "cell_type": "code",
      "metadata": {
        "id": "JQj-O7her1xb",
        "colab": {
          "base_uri": "https://localhost:8080/"
        },
        "outputId": "41626719-7fa1-4b19-9d73-bd650bf11f7d"
      },
      "source": [
        "genuine_surf.sort()\n",
        "for x in range(len(genuine_surf)):\n",
        "    if genuine_surf[x] >= threshold:\n",
        "        break\n",
        "for y in range(len(imposter_surf)):\n",
        "    if imposter_surf[y] >= threshold:\n",
        "        break\n",
        "crr = (len(genuine_surf[x:]) + len(imposter_surf[:y])) / (len(genuine_surf) + len(imposter_surf))\n",
        "print('CRR for SURF recognition is:', crr)"
      ],
      "execution_count": 34,
      "outputs": [
        {
          "output_type": "stream",
          "name": "stdout",
          "text": [
            "CRR for SURF recognition is: 0.9999\n"
          ]
        }
      ]
    },
    {
      "cell_type": "markdown",
      "metadata": {
        "id": "ZaxYZ1o7QRaQ"
      },
      "source": [
        "# ORB data analysis"
      ]
    },
    {
      "cell_type": "markdown",
      "metadata": {
        "id": "S-hbBmI6SYZX"
      },
      "source": [
        "## Plotting genuine and imposter histograms together in single plot"
      ]
    },
    {
      "cell_type": "code",
      "metadata": {
        "id": "BAHr28reRr_3",
        "colab": {
          "base_uri": "https://localhost:8080/",
          "height": 265
        },
        "outputId": "3a57e2ce-4516-4f9f-9963-527e46e15e33"
      },
      "source": [
        "plt.hist(genuine_orb, weights=np.ones_like(genuine_orb) / len(genuine_orb), bins = 100, histtype='step', label = 'Genuine')\n",
        "plt.hist(imposter_orb, weights = np.ones_like(imposter_orb) / len(imposter_orb), bins = 100, histtype='step', label = 'Imposter')\n",
        "plt.legend()\n",
        "plt.show()"
      ],
      "execution_count": 35,
      "outputs": [
        {
          "output_type": "display_data",
          "data": {
            "text/plain": [
              "<Figure size 432x288 with 1 Axes>"
            ],
            "image/png": "[encoded data removed]"
          },
          "metadata": {
            "needs_background": "light"
          }
        }
      ]
    },
    {
      "cell_type": "markdown",
      "metadata": {
        "id": "8R_gYUCBSF54"
      },
      "source": [
        "## Plotting genuine histogram separately"
      ]
    },
    {
      "cell_type": "code",
      "metadata": {
        "id": "f4TJKuG0SMCu",
        "colab": {
          "base_uri": "https://localhost:8080/",
          "height": 265
        },
        "outputId": "64c06200-7615-4895-ed10-86c87ac4f17e"
      },
      "source": [
        "plt.hist(genuine_orb, weights=np.ones_like(genuine_orb) / len(genuine_orb), bins = 100, histtype='step', label = 'Genuine')\n",
        "plt.legend()\n",
        "plt.show()"
      ],
      "execution_count": 36,
      "outputs": [
        {
          "output_type": "display_data",
          "data": {
            "text/plain": [
              "<Figure size 432x288 with 1 Axes>"
            ],
            "image/png": "[encoded data removed]"
          },
          "metadata": {
            "needs_background": "light"
          }
        }
      ]
    },
    {
      "cell_type": "markdown",
      "metadata": {
        "id": "WQiSAWWJSO4a"
      },
      "source": [
        "## Plotting imposter histogram separately"
      ]
    },
    {
      "cell_type": "code",
      "metadata": {
        "id": "gROMkYZ4SS0l",
        "colab": {
          "base_uri": "https://localhost:8080/",
          "height": 265
        },
        "outputId": "04289470-ef24-4ed3-f51b-31a0777015f8"
      },
      "source": [
        "plt.hist(imposter_orb, weights = np.ones_like(imposter_orb) / len(imposter_orb), bins = 100, histtype='step', label = 'Imposter')\n",
        "plt.legend()\n",
        "plt.show()"
      ],
      "execution_count": 37,
      "outputs": [
        {
          "output_type": "display_data",
          "data": {
            "text/plain": [
              "<Figure size 432x288 with 1 Axes>"
            ],
            "image/png": "[encoded data removed]"
          },
          "metadata": {
            "needs_background": "light"
          }
        }
      ]
    },
    {
      "cell_type": "markdown",
      "metadata": {
        "id": "tQVDOdGgSU2d"
      },
      "source": [
        "## Plotting ROC curve"
      ]
    },
    {
      "cell_type": "code",
      "metadata": {
        "id": "lYMzfHfpSg49",
        "colab": {
          "base_uri": "https://localhost:8080/",
          "height": 331
        },
        "outputId": "209c535c-5104-48c7-ae3d-ddebef15c2c2"
      },
      "source": [
        "genuine_orb.sort()\n",
        "imposter_orb.sort()\n",
        "frr = list()\n",
        "far = list()\n",
        "minimum = float('inf')\n",
        "threshold = 0\n",
        "eer = 1\n",
        "step = 1e-4\n",
        "for th in np.arange(0, 1, step):\n",
        "    for y in range(len(genuine_orb)):\n",
        "        if genuine_orb[y] >= th:\n",
        "            break\n",
        "    for x in range(len(imposter_orb)):\n",
        "        if imposter_orb[x] >= th:\n",
        "            break\n",
        "    frr.append(len(genuine_orb[:y]) / len(genuine_orb))\n",
        "    far.append(len(imposter_orb[x:]) / len(imposter_orb))\n",
        "    if minimum > abs(far[-1] - frr[-1]):\n",
        "        threshold = th\n",
        "        minimum = abs(far[-1] - frr[-1])\n",
        "        eer = far[-1]\n",
        "\n",
        "plt.plot(far, frr)\n",
        "plt.xlabel(\"False Acceptance Rate (FAR)\")\n",
        "plt.ylabel(\"False Rejection Rate (FRR)\")\n",
        "plt.show()\n",
        "print('Threshold =', threshold)\n",
        "print('EER =', eer)\n",
        "print('far =', far[int(threshold / step)], 'frr =', frr[int(threshold / step)])"
      ],
      "execution_count": 38,
      "outputs": [
        {
          "output_type": "display_data",
          "data": {
            "text/plain": [
              "<Figure size 432x288 with 1 Axes>"
            ],
            "image/png": "[encoded data removed]"
          },
          "metadata": {
            "needs_background": "light"
          }
        },
        {
          "output_type": "stream",
          "name": "stdout",
          "text": [
            "Threshold = 0.4395\n",
            "EER = 0.00010101010101010101\n",
            "far = 0.00010101010101010101 frr = 0.0\n"
          ]
        }
      ]
    },
    {
      "cell_type": "markdown",
      "metadata": {
        "id": "MEVFw5CWsb99"
      },
      "source": [
        "## Computing CRR"
      ]
    },
    {
      "cell_type": "code",
      "metadata": {
        "id": "cSq4sFmIseaG",
        "colab": {
          "base_uri": "https://localhost:8080/"
        },
        "outputId": "8cd8a4c9-4b30-46bb-9d37-87c42b449240"
      },
      "source": [
        "for x in range(len(genuine_orb)):\n",
        "    if genuine_orb[x] >= threshold:\n",
        "        break\n",
        "for y in range(len(imposter_orb)):\n",
        "    if imposter_orb[y] >= threshold:\n",
        "        break\n",
        "crr = (len(genuine_orb[x:]) + len(imposter_orb[:y])) / (len(genuine_orb) + len(imposter_orb))\n",
        "print('CRR for ORB recognition is:', crr)"
      ],
      "execution_count": 39,
      "outputs": [
        {
          "output_type": "stream",
          "name": "stdout",
          "text": [
            "CRR for ORB recognition is: 0.9999\n"
          ]
        }
      ]
    }
  ]
}

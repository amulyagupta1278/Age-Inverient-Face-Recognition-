{
  "nbformat": 4,
  "nbformat_minor": 0,
  "metadata": {
    "colab": {
      "name": " SIFT, SURF and ORB by AMULYA GUPTA",
      "provenance": [],
      "collapsed_sections": []
    },
    "kernelspec": {
      "display_name": "Python 3",
      "language": "python",
      "name": "python3"
    },
    "language_info": {
      "codemirror_mode": {
        "name": "ipython",
        "version": 3
      },
      "file_extension": ".py",
      "mimetype": "text/x-python",
      "name": "python",
      "nbconvert_exporter": "python",
      "pygments_lexer": "ipython3",
      "version": "3.7.3"
    },
    "accelerator": "GPU"
  },
  "cells": [
    {
      "cell_type": "markdown",
      "metadata": {
        "id": "_8InQwLWvd-d"
      },
      "source": [
        "# Installing required dependencies and importing libraries"
      ]
    },
    {
      "cell_type": "code",
      "metadata": {
        "colab": {
          "base_uri": "https://localhost:8080/"
        },
        "id": "LT6a1xTOvIzW",
        "outputId": "3666a933-4ccf-4b5f-d43f-8f2e2afc768e"
      },
      "source": [
        "!pip install opencv-python==3.4.2.17\n",
        "!pip install opencv-contrib-python==3.4.2.17\n",
        "import numpy as np\n",
        "import cv2\n",
        "from matplotlib import pyplot as plt\n",
        "import os\n",
        "from natsort import natsorted"
      ],
      "execution_count": null,
      "outputs": [
        {
          "output_type": "stream",
          "name": "stdout",
          "text": [
            "Collecting opencv-python==3.4.2.17\n",
            "  Downloading opencv_python-3.4.2.17-cp37-cp37m-manylinux1_x86_64.whl (25.0 MB)\n",
            "\u001b[K     |████████████████████████████████| 25.0 MB 1.2 MB/s \n",
            "\u001b[?25hRequirement already satisfied: numpy>=1.14.5 in /usr/local/lib/python3.7/dist-packages (from opencv-python==3.4.2.17) (1.21.5)\n",
            "Installing collected packages: opencv-python\n",
            "  Attempting uninstall: opencv-python\n",
            "    Found existing installation: opencv-python 4.1.2.30\n",
            "    Uninstalling opencv-python-4.1.2.30:\n",
            "      Successfully uninstalled opencv-python-4.1.2.30\n",
            "\u001b[31mERROR: pip's dependency resolver does not currently take into account all the packages that are installed. This behaviour is the source of the following dependency conflicts.\n",
            "albumentations 0.1.12 requires imgaug<0.2.7,>=0.2.5, but you have imgaug 0.2.9 which is incompatible.\u001b[0m\n",
            "Successfully installed opencv-python-3.4.2.17\n",
            "Collecting opencv-contrib-python==3.4.2.17\n",
            "  Downloading opencv_contrib_python-3.4.2.17-cp37-cp37m-manylinux1_x86_64.whl (30.6 MB)\n",
            "\u001b[K     |████████████████████████████████| 30.6 MB 1.2 MB/s \n",
            "\u001b[?25hRequirement already satisfied: numpy>=1.14.5 in /usr/local/lib/python3.7/dist-packages (from opencv-contrib-python==3.4.2.17) (1.21.5)\n",
            "Installing collected packages: opencv-contrib-python\n",
            "  Attempting uninstall: opencv-contrib-python\n",
            "    Found existing installation: opencv-contrib-python 4.1.2.30\n",
            "    Uninstalling opencv-contrib-python-4.1.2.30:\n",
            "      Successfully uninstalled opencv-contrib-python-4.1.2.30\n",
            "Successfully installed opencv-contrib-python-3.4.2.17\n"
          ]
        }
      ]
    },
    {
      "cell_type": "raw",
      "metadata": {
        "id": "AFmD93azvd-j"
      },
      "source": [
        "### Now, for each image, we are going to generate the SIFT features. First, we have to construct a SIFT object and then use the function detectAndCompute to get the keypoints. It will return two values – the keypoints and the descriptors.\n",
        "\n",
        "Next, match the features of each possible pair of images using match() from the BFmatcher (brute force match) module.\n",
        "\n"
      ]
    },
    {
      "cell_type": "markdown",
      "metadata": {
        "id": "fAVrJW4XMoTj"
      },
      "source": [
        "## Mounting Google drive for storing data"
      ]
    },
    {
      "cell_type": "code",
      "metadata": {
        "id": "SXqs6y-0tc2V",
        "colab": {
          "base_uri": "https://localhost:8080/"
        },
        "outputId": "245b63fb-86f0-42a4-e02f-7f59b051575e"
      },
      "source": [
        "from google.colab import drive\n",
        "drive.mount('/content/gdrive')"
      ],
      "execution_count": null,
      "outputs": [
        {
          "output_type": "stream",
          "name": "stdout",
          "text": [
            "Mounted at /content/gdrive\n"
          ]
        }
      ]
    },
    {
      "cell_type": "markdown",
      "metadata": {
        "id": "0x73St3-MTa2"
      },
      "source": [
        "# Image Matching using SIFT, SURF and ORB\n",
        "\n",
        "Image matching is an important concept in computer vision and object recognition. The images of the same subject can be acquired from different angles, lighting and scales. Therefore, it is best to find features that are descriptive and invariant to the aforementioned variations in order to categorize the images correctly.\n",
        "\n",
        "SIFT helps locate the local features in an image, commonly known as the ‘keypoints‘ of the image. These keypoints are scale & rotation invariant that can be used for various computer vision applications, like image matching, object detection, scene detection, etc.\n",
        "\n",
        "We can also use the keypoints generated using feature extractors like SIFT, SURF, ORB and arcFace as features for the image during model training. The major advantage of SIFT features, over edge features or hog features, is that they are not affected by the size or orientation of the image.\n",
        "\n",
        "In the following cell we have compared the images using SIFT, SURF and ORB models and then stored the results in a text file. Here I have done nxn mapping, irrespective of the sessions which I will filter it later on while reading the file into local variables for error analysis."
      ]
    },
    {
      "cell_type": "code",
      "metadata": {
        "id": "Pwd3fBprvd-k",
        "colab": {
          "base_uri": "https://localhost:8080/"
        },
        "outputId": "c2c27413-07e1-44b0-989e-648910084b58"
      },
      "source": [
        "file_sift = open(\"gdrive/MyDrive/DeepLearningAssignment/Result_sift.txt\", \"w\")\n",
        "file_surf = open(\"gdrive/MyDrive/DeepLearningAssignment/Result_surf.txt\", \"w\")\n",
        "file_orb = open(\"gdrive/MyDrive/DeepLearningAssignment/Result_orb.txt\", \"w\")\n",
        "path1 = 'gdrive/MyDrive/face_data'\n",
        "\n",
        "sift = cv2.xfeatures2d.SIFT_create()\n",
        "surf = cv2.xfeatures2d.SURF_create()\n",
        "orb = cv2.ORB_create(15000)\n",
        "\n",
        "bf = cv2.BFMatcher()\n",
        "clahe = cv2.createCLAHE(clipLimit = 2.0, tileGridSize = (8,8))\n",
        "for images in natsorted(os.listdir(path1)):\n",
        "    str1 = str(images)\n",
        "    img1 = os.path.join(path1, images)\n",
        "    # print(img1)\n",
        "    path_img1 = img1\n",
        "    img1 = cv2.imread(img1, cv2.IMREAD_GRAYSCALE)\n",
        "    img1 = clahe.apply(img1)\n",
        "    kp1_sift, des1_sift = sift.detectAndCompute(img1,None)\n",
        "    kp1_surf, des1_surf = surf.detectAndCompute(img1,None)\n",
        "    kp1_orb, des1_orb = orb.detectAndCompute(img1,None)\n",
        "    if len(kp1_sift)>0 and len(kp1_surf)>0 and len(kp1_orb)>0:\n",
        "        for image in natsorted(os.listdir(path1)):\n",
        "            img2 = os.path.join(path1, image)\n",
        "            #    print(img2)\n",
        "            str2 = str(image)\n",
        "            if (img1 != img2): # queryImage\n",
        "                img2 = cv2.imread(img2, cv2.IMREAD_GRAYSCALE) # trainImage\n",
        "                img2 = clahe.apply(img2)\n",
        "                kp2_sift, des2_sift = sift.detectAndCompute(img2,None)\n",
        "                kp2_surf, des2_surf = surf.detectAndCompute(img2,None)\n",
        "                kp2_orb, des2_orb = orb.detectAndCompute(img2,None)\n",
        "                # Initiate SIFT detector\n",
        "                # sift = cv2.SIFT()            \n",
        "                # find the keypoints and descriptors with SIFT\n",
        "                # BFMatcher with default params\n",
        "                matches_sift = bf.knnMatch(des1_sift,des2_sift, k=2)\n",
        "                matches_surf = bf.knnMatch(des1_surf, des2_surf, k=2)\n",
        "                if type(des1_orb) != type(None) and type(des2_orb) != type(None) and des1_orb.shape[1] == des2_orb.shape[1]:\n",
        "                    matches_orb = bf.knnMatch(des1_orb, des2_orb, k=2)\n",
        "                dis_sift = bf.match(des1_sift,des2_sift)\n",
        "                dis_surf = bf.match(des1_surf,des2_surf)\n",
        "                if type(des1_orb) != type(None) and type(des2_orb) != type(None) and des1_orb.shape[1] == des2_orb.shape[1]:\n",
        "                    dis_orb = bf.match(des1_orb,des2_orb)\n",
        "            #----------------------------------------------\n",
        "                number_keypoints_sift = 0\n",
        "                if len(kp1_sift) <= len(kp2_sift):\n",
        "                    number_keypoints_sift = len(kp1_sift)\n",
        "                else:\n",
        "                    number_keypoints_sift = len(kp2_sift)\n",
        "                good_sift = []\n",
        "                for m,n in matches_sift:\n",
        "                    if m.distance < 0.7*n.distance:\n",
        "                        good_sift.append([m])\n",
        "\n",
        "                number_keypoints_surf = 0\n",
        "                if len(kp1_surf) <= len(kp2_surf):\n",
        "                    number_keypoints_surf = len(kp1_surf)\n",
        "                else:\n",
        "                    number_keypoints_surf = len(kp2_surf)\n",
        "                good_surf = []\n",
        "                for m,n in matches_surf:\n",
        "                   if m.distance < 0.7*n.distance:\n",
        "                      good_surf.append([m])\n",
        "\n",
        "                number_keypoints_orb = 0\n",
        "                if len(kp1_sift) <= len(kp2_orb):\n",
        "                    number_keypoints_orb = len(kp1_orb)\n",
        "                else:\n",
        "                    number_keypoints_orb = len(kp2_orb)\n",
        "                good_orb = []\n",
        "                for i, pair in enumerate(matches_orb):\n",
        "                    try:\n",
        "                        m, n = pair\n",
        "                        if m.distance < 0.7*n.distance:\n",
        "                            good_orb.append(m)\n",
        "                    except ValueError:\n",
        "                        continue\n",
        "            #print(\"Keypoints 1ST Image: \" + str(len(kp1)))\n",
        "            #print(\"Keypoints 2ND Image: \" + str(len(kp2)))\n",
        "            #print(\"GOOD Matches:\", len(good))\n",
        "                score_sift = len(good_sift) / number_keypoints_sift\n",
        "                file_sift.write(str1 + \" \" + str2 + \" \" + str(score_sift)+\"\\n\")\n",
        "                score_surf = len(good_surf) / number_keypoints_surf\n",
        "                file_surf.write(str1 + \" \" + str2 + \" \" + str(score_surf)+\"\\n\")\n",
        "                if number_keypoints_orb != 0:\n",
        "                    score_orb = len(good_orb) / number_keypoints_orb\n",
        "                    file_orb.write(str1 + \" \" + str2 + \" \" + str(score_orb)+\"\\n\")\n",
        "                    \n",
        "            \n",
        "                \n",
        "                \n",
        "            \n",
        "file_sift.close()\n",
        "file_surf.close()\n",
        "file_orb.close()\n",
        "print(\"all well\")"
      ],
      "execution_count": null,
      "outputs": [
        {
          "output_type": "stream",
          "name": "stderr",
          "text": [
            "/usr/local/lib/python3.7/dist-packages/ipykernel_launcher.py:27: FutureWarning: elementwise comparison failed; returning scalar instead, but in the future will perform elementwise comparison\n"
          ]
        },
        {
          "output_type": "stream",
          "name": "stdout",
          "text": [
            "all well\n"
          ]
        }
      ]
    }
  ]
}
